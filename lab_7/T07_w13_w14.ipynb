{
 "cells": [
  {
   "cell_type": "markdown",
   "metadata": {
    "toc": true
   },
   "source": [
    "<h1>Table of Contents<span class=\"tocSkip\"></span></h1>\n",
    "<div class=\"toc\"><ul class=\"toc-item\"><li><span><a href=\"#Библиотека-Pandas\" data-toc-modified-id=\"Библиотека-Pandas-1\"><span class=\"toc-item-num\">1&nbsp;&nbsp;</span>Библиотека Pandas</a></span></li><li><span><a href=\"#Раздел-1.-Создание-таблиц-из-коллекций\" data-toc-modified-id=\"Раздел-1.-Создание-таблиц-из-коллекций-2\"><span class=\"toc-item-num\">2&nbsp;&nbsp;</span>Раздел 1. Создание таблиц из коллекций</a></span></li><li><span><a href=\"#Раздел-2.-Извлечение-данных-по-условию\" data-toc-modified-id=\"Раздел-2.-Извлечение-данных-по-условию-3\"><span class=\"toc-item-num\">3&nbsp;&nbsp;</span>Раздел 2. Извлечение данных по условию</a></span><ul class=\"toc-item\"><li><ul class=\"toc-item\"><li><span><a href=\"#Работа-с-набором-данных-Financial-Sample\" data-toc-modified-id=\"Работа-с-набором-данных-Financial-Sample-3.0.1\"><span class=\"toc-item-num\">3.0.1&nbsp;&nbsp;</span>Работа с набором данных <em>Financial Sample</em></a></span></li><li><span><a href=\"#Извлечение-данных-по-условию\" data-toc-modified-id=\"Извлечение-данных-по-условию-3.0.2\"><span class=\"toc-item-num\">3.0.2&nbsp;&nbsp;</span>Извлечение данных по условию</a></span></li></ul></li><li><span><a href=\"#Раздел-3.-Группировка-данных\" data-toc-modified-id=\"Раздел-3.-Группировка-данных-3.1\"><span class=\"toc-item-num\">3.1&nbsp;&nbsp;</span>Раздел 3. Группировка данных</a></span></li></ul></li></ul></div>"
   ]
  },
  {
   "cell_type": "markdown",
   "metadata": {
    "id": "2Yn_cT5q5eWw"
   },
   "source": [
    "\n",
    "\n",
    "# Библиотека Pandas"
   ]
  },
  {
   "cell_type": "code",
   "execution_count": 2,
   "metadata": {
    "id": "O3_eV5N1mBsX"
   },
   "outputs": [],
   "source": [
    "import pandas as pd"
   ]
  },
  {
   "cell_type": "markdown",
   "metadata": {},
   "source": [
    "# Раздел 1. Создание таблиц из коллекций"
   ]
  },
  {
   "cell_type": "markdown",
   "metadata": {
    "id": "5lpvxhPt14Rz"
   },
   "source": [
    "<p style=\"font-size:125%; color:#119988; background-color:#EEE\">Задание 1.1</p>\n",
    "\n",
    "Имеется *серия*, содержащая числа от 10 до 1000. Какое число содержит элемент с индексом 175? Вычислите разность элементов с индексами 900 и 16."
   ]
  },
  {
   "cell_type": "code",
   "execution_count": 19,
   "metadata": {
    "id": "dwKG6XBG2aGI"
   },
   "outputs": [
    {
     "name": "stdout",
     "output_type": "stream",
     "text": [
      "Число с индексом 175: 185\n",
      "Разность элементов: 884\n"
     ]
    }
   ],
   "source": [
    "# 1.1. Ваш код здесь\n",
    "s = pd.Series(range(10,1001))\n",
    "print(\"Число с индексом 175:\", s.iloc[175])\n",
    "print(\"Разность элементов:\", s.iloc[900]-s.iloc[16])\n"
   ]
  },
  {
   "cell_type": "markdown",
   "metadata": {
    "id": "KxLDOxlXHcnw"
   },
   "source": [
    "<p style=\"font-size:125%; color:#119988; background-color:#EEE\">Задание 1.2</p>\n",
    "\n",
    "Мебельная фабрика выпускает продукцию  наименований: диваны, кровати, трюмо. Создайте таблицу *DatаFrame*, содержащую: количество призведенной продукции каждого наименования, остаток на складе фабрики. Наименования разместите в строках, а количество и остаток в столбцах."
   ]
  },
  {
   "cell_type": "code",
   "execution_count": 20,
   "metadata": {
    "id": "dwKG6XBG2aGI"
   },
   "outputs": [
    {
     "data": {
      "text/html": [
       "<div>\n",
       "<style scoped>\n",
       "    .dataframe tbody tr th:only-of-type {\n",
       "        vertical-align: middle;\n",
       "    }\n",
       "\n",
       "    .dataframe tbody tr th {\n",
       "        vertical-align: top;\n",
       "    }\n",
       "\n",
       "    .dataframe thead th {\n",
       "        text-align: right;\n",
       "    }\n",
       "</style>\n",
       "<table border=\"1\" class=\"dataframe\">\n",
       "  <thead>\n",
       "    <tr style=\"text-align: right;\">\n",
       "      <th></th>\n",
       "      <th>name</th>\n",
       "      <th>kol_vo</th>\n",
       "      <th>ost</th>\n",
       "    </tr>\n",
       "  </thead>\n",
       "  <tbody>\n",
       "    <tr>\n",
       "      <th>0</th>\n",
       "      <td>Divan</td>\n",
       "      <td>5</td>\n",
       "      <td>10</td>\n",
       "    </tr>\n",
       "    <tr>\n",
       "      <th>1</th>\n",
       "      <td>Krovat</td>\n",
       "      <td>10</td>\n",
       "      <td>9</td>\n",
       "    </tr>\n",
       "    <tr>\n",
       "      <th>2</th>\n",
       "      <td>Trymo</td>\n",
       "      <td>12</td>\n",
       "      <td>4</td>\n",
       "    </tr>\n",
       "  </tbody>\n",
       "</table>\n",
       "</div>"
      ],
      "text/plain": [
       "     name  kol_vo  ost\n",
       "0   Divan       5   10\n",
       "1  Krovat      10    9\n",
       "2   Trymo      12    4"
      ]
     },
     "execution_count": 20,
     "metadata": {},
     "output_type": "execute_result"
    }
   ],
   "source": [
    "# 1.2. Ваш код здесь\n",
    "market = pd.DataFrame({'name':['Divan','Krovat','Trymo'],\n",
    "                        'kol_vo':[5,10,12],'ost':[10,9,4]})\n",
    "market\n"
   ]
  },
  {
   "cell_type": "markdown",
   "metadata": {
    "id": "4-VMbARUiXxB"
   },
   "source": [
    "<p style=\"font-size:125%; color:#119988; background-color:#EEE\">Задание 1.3</p>\n",
    "\n",
    "Разделите столбец **car** таблицы **market** на два столбца: **mark** (марка) и **model** (модель).\n",
    "\n",
    "```\n",
    "market = pd.DataFrame({'car':['Lada Granta','Lada Vesta','Kia Rio','Hyunday Creta'], \n",
    "                       'year':[2019,2018,2010,2015], \n",
    "                       'condition':[75,104,20,90], 'km':[130000,210000,75000,94000]})\n",
    "```"
   ]
  },
  {
   "cell_type": "code",
   "execution_count": 21,
   "metadata": {},
   "outputs": [
    {
     "data": {
      "text/html": [
       "<div>\n",
       "<style scoped>\n",
       "    .dataframe tbody tr th:only-of-type {\n",
       "        vertical-align: middle;\n",
       "    }\n",
       "\n",
       "    .dataframe tbody tr th {\n",
       "        vertical-align: top;\n",
       "    }\n",
       "\n",
       "    .dataframe thead th {\n",
       "        text-align: right;\n",
       "    }\n",
       "</style>\n",
       "<table border=\"1\" class=\"dataframe\">\n",
       "  <thead>\n",
       "    <tr style=\"text-align: right;\">\n",
       "      <th></th>\n",
       "      <th>mark</th>\n",
       "      <th>model</th>\n",
       "      <th>year</th>\n",
       "      <th>condition</th>\n",
       "      <th>km</th>\n",
       "    </tr>\n",
       "  </thead>\n",
       "  <tbody>\n",
       "    <tr>\n",
       "      <th>0</th>\n",
       "      <td>Lada</td>\n",
       "      <td>Granta</td>\n",
       "      <td>2019</td>\n",
       "      <td>75</td>\n",
       "      <td>130000</td>\n",
       "    </tr>\n",
       "    <tr>\n",
       "      <th>1</th>\n",
       "      <td>Lada</td>\n",
       "      <td>Vesta</td>\n",
       "      <td>2018</td>\n",
       "      <td>104</td>\n",
       "      <td>210000</td>\n",
       "    </tr>\n",
       "    <tr>\n",
       "      <th>2</th>\n",
       "      <td>Kia</td>\n",
       "      <td>Rio</td>\n",
       "      <td>2010</td>\n",
       "      <td>20</td>\n",
       "      <td>75000</td>\n",
       "    </tr>\n",
       "    <tr>\n",
       "      <th>3</th>\n",
       "      <td>Hyunday</td>\n",
       "      <td>Creta</td>\n",
       "      <td>2015</td>\n",
       "      <td>90</td>\n",
       "      <td>94000</td>\n",
       "    </tr>\n",
       "  </tbody>\n",
       "</table>\n",
       "</div>"
      ],
      "text/plain": [
       "       mark   model  year  condition      km\n",
       "0     Lada   Granta  2019         75  130000\n",
       "1     Lada    Vesta  2018        104  210000\n",
       "2      Kia      Rio  2010         20   75000\n",
       "3  Hyunday    Creta  2015         90   94000"
      ]
     },
     "execution_count": 21,
     "metadata": {},
     "output_type": "execute_result"
    }
   ],
   "source": [
    "# 1.3. Ваш код здесь\n",
    "market = pd.DataFrame({'mark':['Lada ','Lada ','Kia ','Hyunday '],\n",
    "                       'model':['Granta','Vesta','Rio','Creta'],\n",
    "                       'year':[2019,2018,2010,2015], \n",
    "                       'condition':[75,104,20,90], 'km':[130000,210000,75000,94000]})\n",
    "market\n",
    "\n"
   ]
  },
  {
   "cell_type": "markdown",
   "metadata": {},
   "source": [
    "<p style=\"font-size:125%; color:#119988; background-color:#EEE\">Задание 1.4</p>\n",
    "\n",
    "Имеются исторические данные о цене акции в виде таблицы DataFrame.\n",
    "\n",
    "```\n",
    "history=pd.DataFrame([[150,20,140,140],[140,31,152,150],\n",
    "                     [147,17,180,164],[129,33,150,167]],\n",
    "                     columns=['Open','Low','High','Close'],\n",
    "                     index=['2020-12-07','2020-12-08','2020-12-09','2020-12-10'])\n",
    "```\n",
    "Найдите минимальную и максимальную цены закрытия, стандартное отклонение цены открытия, среднее значение самой низкой (Low) цены и медиану самой высокой (High) цены."
   ]
  },
  {
   "cell_type": "code",
   "execution_count": 3,
   "metadata": {},
   "outputs": [
    {
     "data": {
      "text/html": [
       "<div>\n",
       "<style scoped>\n",
       "    .dataframe tbody tr th:only-of-type {\n",
       "        vertical-align: middle;\n",
       "    }\n",
       "\n",
       "    .dataframe tbody tr th {\n",
       "        vertical-align: top;\n",
       "    }\n",
       "\n",
       "    .dataframe thead th {\n",
       "        text-align: right;\n",
       "    }\n",
       "</style>\n",
       "<table border=\"1\" class=\"dataframe\">\n",
       "  <thead>\n",
       "    <tr style=\"text-align: right;\">\n",
       "      <th></th>\n",
       "      <th>Open</th>\n",
       "      <th>Low</th>\n",
       "      <th>High</th>\n",
       "      <th>Close</th>\n",
       "    </tr>\n",
       "  </thead>\n",
       "  <tbody>\n",
       "    <tr>\n",
       "      <th>2020-12-07</th>\n",
       "      <td>150</td>\n",
       "      <td>20</td>\n",
       "      <td>140</td>\n",
       "      <td>140</td>\n",
       "    </tr>\n",
       "    <tr>\n",
       "      <th>2020-12-08</th>\n",
       "      <td>140</td>\n",
       "      <td>31</td>\n",
       "      <td>152</td>\n",
       "      <td>150</td>\n",
       "    </tr>\n",
       "    <tr>\n",
       "      <th>2020-12-09</th>\n",
       "      <td>147</td>\n",
       "      <td>17</td>\n",
       "      <td>180</td>\n",
       "      <td>164</td>\n",
       "    </tr>\n",
       "    <tr>\n",
       "      <th>2020-12-10</th>\n",
       "      <td>129</td>\n",
       "      <td>33</td>\n",
       "      <td>150</td>\n",
       "      <td>167</td>\n",
       "    </tr>\n",
       "  </tbody>\n",
       "</table>\n",
       "</div>"
      ],
      "text/plain": [
       "            Open  Low  High  Close\n",
       "2020-12-07   150   20   140    140\n",
       "2020-12-08   140   31   152    150\n",
       "2020-12-09   147   17   180    164\n",
       "2020-12-10   129   33   150    167"
      ]
     },
     "execution_count": 3,
     "metadata": {},
     "output_type": "execute_result"
    }
   ],
   "source": [
    "# 1.4. Ваш код здесь\n",
    "history=pd.DataFrame([[150,20,140,140],[140,31,152,150],\n",
    "                     [147,17,180,164],[129,33,150,167]],\n",
    "                     columns=['Open','Low','High','Close'],\n",
    "                     index=['2020-12-07','2020-12-08','2020-12-09','2020-12-10'])\n",
    "history\n"
   ]
  },
  {
   "cell_type": "code",
   "execution_count": 5,
   "metadata": {
    "scrolled": true
   },
   "outputs": [
    {
     "name": "stdout",
     "output_type": "stream",
     "text": [
      "167\n",
      "140\n"
     ]
    }
   ],
   "source": [
    "#минимальная и максимальная цена закрытия\n",
    "print(history['Close'].max())\n",
    "print(history['Close'].min())"
   ]
  },
  {
   "cell_type": "code",
   "execution_count": 24,
   "metadata": {},
   "outputs": [
    {
     "data": {
      "text/plain": [
       "9.327379053088816"
      ]
     },
     "execution_count": 24,
     "metadata": {},
     "output_type": "execute_result"
    }
   ],
   "source": [
    "# стандартное отклонение цены открытия\n",
    "history['Open'].std()"
   ]
  },
  {
   "cell_type": "code",
   "execution_count": 25,
   "metadata": {},
   "outputs": [
    {
     "data": {
      "text/plain": [
       "25.25"
      ]
     },
     "execution_count": 25,
     "metadata": {},
     "output_type": "execute_result"
    }
   ],
   "source": [
    "#среднее значение самой низкой (Low) цены \n",
    "history['Low'].mean()\n"
   ]
  },
  {
   "cell_type": "code",
   "execution_count": 26,
   "metadata": {},
   "outputs": [
    {
     "data": {
      "text/plain": [
       "151.0"
      ]
     },
     "execution_count": 26,
     "metadata": {},
     "output_type": "execute_result"
    }
   ],
   "source": [
    "#медиану самой высокой (High) цены.\n",
    "history['High'].median()"
   ]
  },
  {
   "cell_type": "markdown",
   "metadata": {},
   "source": [
    "# Раздел 2. Извлечение данных по условию\n",
    "\n",
    "### Работа с набором данных *Financial Sample*"
   ]
  },
  {
   "cell_type": "code",
   "execution_count": null,
   "metadata": {},
   "outputs": [],
   "source": [
    "with open('../Data/FinancialSampleFields.csv', encoding='utf-8') as f:\n",
    "  content = f.readlines()\n",
    "  content = [x.replace('\\n','').split(';') for x in content]\n",
    "\n",
    "pd.DataFrame(content[1:],columns = content[0])"
   ]
  },
  {
   "cell_type": "markdown",
   "metadata": {
    "id": "O19QRQijxc8j"
   },
   "source": [
    "### Извлечение данных по условию\n",
    "\n",
    "Использование условий позволяет выбирать только отвечающие условиям данные.\n",
    "\n",
    "Примеры:\n",
    "\n",
    "`fs[fs['SalePrice']>90] # отобрать результаты, для которых цена продажи больше 90`\n",
    "\n",
    "В результате операции сравнения в квадратных скобках создается список из *True* и *False*, который показывает, какие строки *DataFrame* нужно оставить, а какие убрать.\n",
    "\n",
    "`fs[fs['Discounts']>fs['Discounts'].mean()] # результаты, для которых сумма скидок превышает среднюю сумму скидок`\n",
    "\n",
    "Условия можно комбинировать, используя операторы **&** (логическое И) и | (логическое ИЛИ).\n",
    "\n",
    "`fs[(fs['Discounts']>fs['Discounts'].mean()) & (fs['UnitsSold']<fs['UnitsSold'].mean())].sort_values('Country') # сумма скидок выше среднего, продано товара ниже среднего по выборке`\n",
    "\n",
    "`fs[fs['Segment']=='Enterprise']['COGS'].mean() # найти среднюю себестоимость товаров промышленного (Enterprise) сегмента`\n",
    "\n",
    "Проверьте приведенные примеры в своих ноутбуках."
   ]
  },
  {
   "cell_type": "markdown",
   "metadata": {},
   "source": [
    "<p style=\"font-size:125%; color:#119988; background-color:#EEE\">Задание 2.1</p>\n",
    "\n",
    "Загрузите этот набор данных в таблицу *DataFrame*. Какова сумма валовых продаж (GrossSales) товаров, произведеных *Amarilla* для малого бизнеса?"
   ]
  },
  {
   "cell_type": "code",
   "execution_count": 7,
   "metadata": {},
   "outputs": [
    {
     "data": {
      "text/html": [
       "<div>\n",
       "<style scoped>\n",
       "    .dataframe tbody tr th:only-of-type {\n",
       "        vertical-align: middle;\n",
       "    }\n",
       "\n",
       "    .dataframe tbody tr th {\n",
       "        vertical-align: top;\n",
       "    }\n",
       "\n",
       "    .dataframe thead th {\n",
       "        text-align: right;\n",
       "    }\n",
       "</style>\n",
       "<table border=\"1\" class=\"dataframe\">\n",
       "  <thead>\n",
       "    <tr style=\"text-align: right;\">\n",
       "      <th></th>\n",
       "      <th>Id</th>\n",
       "      <th>Segment</th>\n",
       "      <th>Country</th>\n",
       "      <th>Product</th>\n",
       "      <th>DiscountBand</th>\n",
       "      <th>UnitsSold</th>\n",
       "      <th>ManufacturingPrice</th>\n",
       "      <th>SalePrice</th>\n",
       "      <th>GrossSales</th>\n",
       "      <th>Discounts</th>\n",
       "      <th>Sales</th>\n",
       "      <th>COGS</th>\n",
       "      <th>Profit</th>\n",
       "      <th>Date</th>\n",
       "      <th>MonthNumber</th>\n",
       "      <th>MonthName</th>\n",
       "      <th>Year</th>\n",
       "    </tr>\n",
       "  </thead>\n",
       "  <tbody>\n",
       "    <tr>\n",
       "      <th>0</th>\n",
       "      <td>1</td>\n",
       "      <td>Government</td>\n",
       "      <td>Canada</td>\n",
       "      <td>Carretera</td>\n",
       "      <td>None</td>\n",
       "      <td>1618.5</td>\n",
       "      <td>3.0</td>\n",
       "      <td>20.0</td>\n",
       "      <td>32370.0</td>\n",
       "      <td>0.00</td>\n",
       "      <td>32370.0</td>\n",
       "      <td>16185.0</td>\n",
       "      <td>16185.000</td>\n",
       "      <td>2014-01-01</td>\n",
       "      <td>1.0</td>\n",
       "      <td>January</td>\n",
       "      <td>2014.0</td>\n",
       "    </tr>\n",
       "    <tr>\n",
       "      <th>1</th>\n",
       "      <td>2</td>\n",
       "      <td>Government</td>\n",
       "      <td>Germany</td>\n",
       "      <td>Carretera</td>\n",
       "      <td>None</td>\n",
       "      <td>1321.0</td>\n",
       "      <td>3.0</td>\n",
       "      <td>20.0</td>\n",
       "      <td>26420.0</td>\n",
       "      <td>0.00</td>\n",
       "      <td>26420.0</td>\n",
       "      <td>13210.0</td>\n",
       "      <td>13210.000</td>\n",
       "      <td>2014-01-01</td>\n",
       "      <td>1.0</td>\n",
       "      <td>January</td>\n",
       "      <td>2014.0</td>\n",
       "    </tr>\n",
       "    <tr>\n",
       "      <th>2</th>\n",
       "      <td>3</td>\n",
       "      <td>Midmarket</td>\n",
       "      <td>France</td>\n",
       "      <td>Carretera</td>\n",
       "      <td>None</td>\n",
       "      <td>2178.0</td>\n",
       "      <td>3.0</td>\n",
       "      <td>15.0</td>\n",
       "      <td>32670.0</td>\n",
       "      <td>0.00</td>\n",
       "      <td>32670.0</td>\n",
       "      <td>21780.0</td>\n",
       "      <td>10890.000</td>\n",
       "      <td>2014-06-01</td>\n",
       "      <td>6.0</td>\n",
       "      <td>June</td>\n",
       "      <td>2014.0</td>\n",
       "    </tr>\n",
       "    <tr>\n",
       "      <th>3</th>\n",
       "      <td>4</td>\n",
       "      <td>Midmarket</td>\n",
       "      <td>Germany</td>\n",
       "      <td>Carretera</td>\n",
       "      <td>None</td>\n",
       "      <td>888.0</td>\n",
       "      <td>3.0</td>\n",
       "      <td>15.0</td>\n",
       "      <td>13320.0</td>\n",
       "      <td>0.00</td>\n",
       "      <td>13320.0</td>\n",
       "      <td>8880.0</td>\n",
       "      <td>4440.000</td>\n",
       "      <td>2014-06-01</td>\n",
       "      <td>6.0</td>\n",
       "      <td>June</td>\n",
       "      <td>2014.0</td>\n",
       "    </tr>\n",
       "    <tr>\n",
       "      <th>4</th>\n",
       "      <td>5</td>\n",
       "      <td>Midmarket</td>\n",
       "      <td>Mexico</td>\n",
       "      <td>Carretera</td>\n",
       "      <td>None</td>\n",
       "      <td>2470.0</td>\n",
       "      <td>3.0</td>\n",
       "      <td>15.0</td>\n",
       "      <td>37050.0</td>\n",
       "      <td>0.00</td>\n",
       "      <td>37050.0</td>\n",
       "      <td>24700.0</td>\n",
       "      <td>12350.000</td>\n",
       "      <td>2014-06-01</td>\n",
       "      <td>6.0</td>\n",
       "      <td>June</td>\n",
       "      <td>2014.0</td>\n",
       "    </tr>\n",
       "    <tr>\n",
       "      <th>...</th>\n",
       "      <td>...</td>\n",
       "      <td>...</td>\n",
       "      <td>...</td>\n",
       "      <td>...</td>\n",
       "      <td>...</td>\n",
       "      <td>...</td>\n",
       "      <td>...</td>\n",
       "      <td>...</td>\n",
       "      <td>...</td>\n",
       "      <td>...</td>\n",
       "      <td>...</td>\n",
       "      <td>...</td>\n",
       "      <td>...</td>\n",
       "      <td>...</td>\n",
       "      <td>...</td>\n",
       "      <td>...</td>\n",
       "      <td>...</td>\n",
       "    </tr>\n",
       "    <tr>\n",
       "      <th>1395</th>\n",
       "      <td>1396</td>\n",
       "      <td>Small Business</td>\n",
       "      <td>Albania</td>\n",
       "      <td>Carretera</td>\n",
       "      <td>Green</td>\n",
       "      <td>2348.0</td>\n",
       "      <td>97.0</td>\n",
       "      <td>164.9</td>\n",
       "      <td>10772.0</td>\n",
       "      <td>18.32</td>\n",
       "      <td>10666.0</td>\n",
       "      <td>7540.4</td>\n",
       "      <td>3871.852</td>\n",
       "      <td>2014-12-13</td>\n",
       "      <td>12.0</td>\n",
       "      <td>December</td>\n",
       "      <td>2014.0</td>\n",
       "    </tr>\n",
       "    <tr>\n",
       "      <th>1396</th>\n",
       "      <td>1397</td>\n",
       "      <td>Government</td>\n",
       "      <td>Finland</td>\n",
       "      <td>Montana</td>\n",
       "      <td>Green</td>\n",
       "      <td>2184.0</td>\n",
       "      <td>115.0</td>\n",
       "      <td>195.5</td>\n",
       "      <td>19337.0</td>\n",
       "      <td>21.72</td>\n",
       "      <td>16125.0</td>\n",
       "      <td>13535.9</td>\n",
       "      <td>4269.720</td>\n",
       "      <td>2014-11-24</td>\n",
       "      <td>11.0</td>\n",
       "      <td>November</td>\n",
       "      <td>2014.0</td>\n",
       "    </tr>\n",
       "    <tr>\n",
       "      <th>1397</th>\n",
       "      <td>1398</td>\n",
       "      <td>Enterprise</td>\n",
       "      <td>Albania</td>\n",
       "      <td>Velo</td>\n",
       "      <td>Medium</td>\n",
       "      <td>2756.0</td>\n",
       "      <td>73.0</td>\n",
       "      <td>124.1</td>\n",
       "      <td>17624.0</td>\n",
       "      <td>13.79</td>\n",
       "      <td>15757.0</td>\n",
       "      <td>12336.8</td>\n",
       "      <td>3420.196</td>\n",
       "      <td>2014-04-20</td>\n",
       "      <td>4.0</td>\n",
       "      <td>April</td>\n",
       "      <td>2014.0</td>\n",
       "    </tr>\n",
       "    <tr>\n",
       "      <th>1398</th>\n",
       "      <td>1399</td>\n",
       "      <td>Enterprise</td>\n",
       "      <td>Mexico</td>\n",
       "      <td>Nice</td>\n",
       "      <td>Green</td>\n",
       "      <td>2060.0</td>\n",
       "      <td>64.0</td>\n",
       "      <td>108.8</td>\n",
       "      <td>19143.0</td>\n",
       "      <td>12.09</td>\n",
       "      <td>21038.0</td>\n",
       "      <td>13400.1</td>\n",
       "      <td>2241.280</td>\n",
       "      <td>2014-11-10</td>\n",
       "      <td>11.0</td>\n",
       "      <td>November</td>\n",
       "      <td>2014.0</td>\n",
       "    </tr>\n",
       "    <tr>\n",
       "      <th>1399</th>\n",
       "      <td>1400</td>\n",
       "      <td>Enterprise</td>\n",
       "      <td>Mexico</td>\n",
       "      <td>Paseo</td>\n",
       "      <td>Green</td>\n",
       "      <td>2922.0</td>\n",
       "      <td>58.0</td>\n",
       "      <td>98.6</td>\n",
       "      <td>19885.0</td>\n",
       "      <td>10.96</td>\n",
       "      <td>1793.0</td>\n",
       "      <td>13919.5</td>\n",
       "      <td>2881.092</td>\n",
       "      <td>2014-10-16</td>\n",
       "      <td>10.0</td>\n",
       "      <td>October</td>\n",
       "      <td>2014.0</td>\n",
       "    </tr>\n",
       "  </tbody>\n",
       "</table>\n",
       "<p>1400 rows × 17 columns</p>\n",
       "</div>"
      ],
      "text/plain": [
       "        Id         Segment  Country    Product DiscountBand  UnitsSold  \\\n",
       "0        1      Government   Canada  Carretera         None     1618.5   \n",
       "1        2      Government  Germany  Carretera         None     1321.0   \n",
       "2        3       Midmarket   France  Carretera         None     2178.0   \n",
       "3        4       Midmarket  Germany  Carretera         None      888.0   \n",
       "4        5       Midmarket   Mexico  Carretera         None     2470.0   \n",
       "...    ...             ...      ...        ...          ...        ...   \n",
       "1395  1396  Small Business  Albania  Carretera        Green     2348.0   \n",
       "1396  1397      Government  Finland    Montana        Green     2184.0   \n",
       "1397  1398      Enterprise  Albania       Velo       Medium     2756.0   \n",
       "1398  1399      Enterprise   Mexico       Nice        Green     2060.0   \n",
       "1399  1400      Enterprise   Mexico      Paseo        Green     2922.0   \n",
       "\n",
       "      ManufacturingPrice  SalePrice  GrossSales  Discounts    Sales     COGS  \\\n",
       "0                    3.0       20.0     32370.0       0.00  32370.0  16185.0   \n",
       "1                    3.0       20.0     26420.0       0.00  26420.0  13210.0   \n",
       "2                    3.0       15.0     32670.0       0.00  32670.0  21780.0   \n",
       "3                    3.0       15.0     13320.0       0.00  13320.0   8880.0   \n",
       "4                    3.0       15.0     37050.0       0.00  37050.0  24700.0   \n",
       "...                  ...        ...         ...        ...      ...      ...   \n",
       "1395                97.0      164.9     10772.0      18.32  10666.0   7540.4   \n",
       "1396               115.0      195.5     19337.0      21.72  16125.0  13535.9   \n",
       "1397                73.0      124.1     17624.0      13.79  15757.0  12336.8   \n",
       "1398                64.0      108.8     19143.0      12.09  21038.0  13400.1   \n",
       "1399                58.0       98.6     19885.0      10.96   1793.0  13919.5   \n",
       "\n",
       "         Profit        Date  MonthNumber MonthName    Year  \n",
       "0     16185.000  2014-01-01          1.0   January  2014.0  \n",
       "1     13210.000  2014-01-01          1.0   January  2014.0  \n",
       "2     10890.000  2014-06-01          6.0      June  2014.0  \n",
       "3      4440.000  2014-06-01          6.0      June  2014.0  \n",
       "4     12350.000  2014-06-01          6.0      June  2014.0  \n",
       "...         ...         ...          ...       ...     ...  \n",
       "1395   3871.852  2014-12-13         12.0  December  2014.0  \n",
       "1396   4269.720  2014-11-24         11.0  November  2014.0  \n",
       "1397   3420.196  2014-04-20          4.0     April  2014.0  \n",
       "1398   2241.280  2014-11-10         11.0  November  2014.0  \n",
       "1399   2881.092  2014-10-16         10.0   October  2014.0  \n",
       "\n",
       "[1400 rows x 17 columns]"
      ]
     },
     "execution_count": 7,
     "metadata": {},
     "output_type": "execute_result"
    }
   ],
   "source": [
    "# 2.1. Ваш код здесь\n",
    "fs = pd.read_csv('C:/Users/maksi/OneDrive/Рабочий стол/Data/FinancialSample3.csv', sep=';')\n",
    "fs"
   ]
  },
  {
   "cell_type": "code",
   "execution_count": 29,
   "metadata": {},
   "outputs": [
    {
     "name": "stdout",
     "output_type": "stream",
     "text": [
      "5024400.0\n"
     ]
    }
   ],
   "source": [
    "a = fs[(fs['Segment'] == 'Small Business') & (fs['Product']=='Amarilla')] \n",
    "b = a['GrossSales'].sum()\n",
    "print(b)"
   ]
  },
  {
   "cell_type": "markdown",
   "metadata": {},
   "source": [
    "<p style=\"font-size:125%; color:#119988; background-color:#EEE\">Задание 2.2</p>\n",
    "\n",
    "Определите среднюю стоимость производства (ManufacturingPrice) товаров, выпущенных для Мексики стоимостью (SalePrice) выше, чем стоимость 70% товаров."
   ]
  },
  {
   "cell_type": "code",
   "execution_count": 30,
   "metadata": {},
   "outputs": [
    {
     "data": {
      "text/plain": [
       "99.075"
      ]
     },
     "execution_count": 30,
     "metadata": {},
     "output_type": "execute_result"
    }
   ],
   "source": [
    "# 2.2. Ваш код здесь\n",
    "mexico_fs = fs[fs['Country'] == 'Mexico'] \n",
    "mexico_fs = mexico_fs[mexico_fs['SalePrice'] > 0.7 * mexico_fs['SalePrice'].max()]\n",
    "mean = mexico_fs['ManufacturingPrice'].mean() \n",
    "mean"
   ]
  },
  {
   "cell_type": "markdown",
   "metadata": {},
   "source": [
    "<p style=\"font-size:125%; color:#119988; background-color:#EEE\">Задание 2.3</p>\n",
    "\n",
    "Найдите минимальную цену производства товара правительственого сегмента, для которого цена продажи ниже цены производства."
   ]
  },
  {
   "cell_type": "code",
   "execution_count": 31,
   "metadata": {},
   "outputs": [
    {
     "data": {
      "text/plain": [
       "10.0"
      ]
     },
     "execution_count": 31,
     "metadata": {},
     "output_type": "execute_result"
    }
   ],
   "source": [
    "# 2.3. Ваш код здесь\n",
    "gov = fs[fs['Segment'] == 'Government']\n",
    "gov= gov[gov['SalePrice'] < gov['ManufacturingPrice']]\n",
    "minim = gov['ManufacturingPrice'].min()\n",
    "minim\n",
    "\n"
   ]
  },
  {
   "cell_type": "markdown",
   "metadata": {},
   "source": [
    "<p style=\"font-size:125%; color:#119988; background-color:#EEE\">Задание 2.4</p>\n",
    "\n",
    "Какова средняя цена товара, стоимость производства которого ниже средней?"
   ]
  },
  {
   "cell_type": "code",
   "execution_count": 32,
   "metadata": {},
   "outputs": [
    {
     "name": "stdout",
     "output_type": "stream",
     "text": [
      "300.0\n"
     ]
    }
   ],
   "source": [
    "# 2.4. Ваш код здесь\n",
    "mean_ = mexico_fs['SalePrice'].mean()\n",
    "filtered_data = mexico_fs[mexico_fs['SalePrice'] < mean_]\n",
    "average_price = filtered_data['SalePrice'].mean()\n",
    "print(average_price)\n",
    "\n",
    "\n",
    "\n",
    "\n"
   ]
  },
  {
   "cell_type": "markdown",
   "metadata": {},
   "source": [
    "<p style=\"font-size:125%; color:#119988; background-color:#EEE\">Задание 2.5</p>\n",
    "\n",
    "Во сколько раз средняя себестоимость (COGS) товаров промышленного сегмента (Enterprize) отличается от средней себестоимости товаров малого бизнеса?"
   ]
  },
  {
   "cell_type": "code",
   "execution_count": 9,
   "metadata": {},
   "outputs": [
    {
     "name": "stdout",
     "output_type": "stream",
     "text": [
      "0.5714966377808542\n"
     ]
    }
   ],
   "source": [
    "# 2.5. Ваш код здесь\n",
    "enterprize = fs[fs['Segment'] == 'Enterprise']['COGS'].mean()\n",
    "small_business = fs[fs['Segment'] == 'Small Business']['COGS'].mean()\n",
    "sred_sebest = enterprize / small_business\n",
    "print(sred_sebest)\n"
   ]
  },
  {
   "cell_type": "markdown",
   "metadata": {},
   "source": [
    "<p style=\"font-size:125%; color:#119988; background-color:#EEE\">Задание 2.6</p>\n",
    "\n",
    "Какова суммарная прибыль всех сделок в правительственном сегменте, заключенных компаниями Carretera и Paseo?"
   ]
  },
  {
   "cell_type": "code",
   "execution_count": 49,
   "metadata": {},
   "outputs": [
    {
     "name": "stdout",
     "output_type": "stream",
     "text": [
      "4528986.045000001\n"
     ]
    }
   ],
   "source": [
    "# 2.6. Ваш код здесь\n",
    "dann = fs[(fs['Segment'] == 'Government') & (fs['Product'].isin(['Carretera','Paseo']))]\n",
    "itog = dann['Profit'].sum()\n",
    "print(itog)\n"
   ]
  },
  {
   "cell_type": "markdown",
   "metadata": {
    "id": "mLSdzFG55hyA"
   },
   "source": [
    "## Раздел 3. Группировка данных\n",
    "\n"
   ]
  },
  {
   "cell_type": "markdown",
   "metadata": {},
   "source": [
    "<p style=\"font-size:125%; color:#119988; background-color:#EEE\">Задание 3.1</p>\n",
    "\n",
    "Сколько разных систем скидок представлено в таблице?"
   ]
  },
  {
   "cell_type": "code",
   "execution_count": 33,
   "metadata": {},
   "outputs": [
    {
     "name": "stdout",
     "output_type": "stream",
     "text": [
      "Кол-во различных систем скидок: 586\n"
     ]
    }
   ],
   "source": [
    "# 3.1. Ваш код здесь\n",
    "discont = fs['Discounts'].unique()\n",
    "ynik = len(discont)\n",
    "print(\"Кол-во различных систем скидок:\", ynik)\n"
   ]
  },
  {
   "cell_type": "markdown",
   "metadata": {},
   "source": [
    "<p style=\"font-size:125%; color:#119988; background-color:#EEE\">Задание 3.2</p>\n",
    "\n",
    "Какая из систем скидок применяется реже всего?"
   ]
  },
  {
   "cell_type": "code",
   "execution_count": 34,
   "metadata": {},
   "outputs": [
    {
     "name": "stdout",
     "output_type": "stream",
     "text": [
      "система применятеся реже: 23737.5\n"
     ]
    }
   ],
   "source": [
    "# 3.2. Ваш код здесь\n",
    "diskonts = fs['Discounts'].value_counts()\n",
    "print(\"система применятеся реже:\", diskonts.index[-1])\n"
   ]
  },
  {
   "cell_type": "markdown",
   "metadata": {},
   "source": [
    "<p style=\"font-size:125%; color:#119988; background-color:#EEE\">Задание 3.3</p>\n",
    "\n",
    "Сколько раз представлены в выборке разные страны?"
   ]
  },
  {
   "cell_type": "code",
   "execution_count": 35,
   "metadata": {},
   "outputs": [
    {
     "name": "stdout",
     "output_type": "stream",
     "text": [
      "Кол-во стран в выборке 9\n"
     ]
    }
   ],
   "source": [
    "# 3.3. Ваш код здесь\n",
    "country = fs['Country'].unique()\n",
    "print(\"Кол-во стран в выборке\", len(country))\n"
   ]
  },
  {
   "cell_type": "markdown",
   "metadata": {},
   "source": [
    "<p style=\"font-size:125%; color:#119988; background-color:#EEE\">Задание 3.4</p>\n",
    "\n",
    "Разбейте значения столбца себестоимости (COGS) для Канады на шесть интервалов."
   ]
  },
  {
   "cell_type": "code",
   "execution_count": 5,
   "metadata": {},
   "outputs": [
    {
     "name": "stdout",
     "output_type": "stream",
     "text": [
      "0         (335.66, 159508.333]\n",
      "7         (335.66, 159508.333]\n",
      "11      (317731.667, 475955.0]\n",
      "14        (335.66, 159508.333]\n",
      "16        (335.66, 159508.333]\n",
      "                 ...          \n",
      "1327      (335.66, 159508.333]\n",
      "1341      (335.66, 159508.333]\n",
      "1356      (335.66, 159508.333]\n",
      "1360      (335.66, 159508.333]\n",
      "1371      (335.66, 159508.333]\n",
      "Name: COGS, Length: 213, dtype: category\n",
      "Categories (6, interval[float64, right]): [(335.66, 159508.333] < (159508.333, 317731.667] < (317731.667, 475955.0] < (475955.0, 634178.333] < (634178.333, 792401.667] < (792401.667, 950625.0]]\n"
     ]
    }
   ],
   "source": [
    "# 3.4. Ваш код здесь\n",
    "canada = fs[fs['Country'] == 'Canada']\n",
    "interval = pd.cut(canada['COGS'], bins = 6 )\n",
    "print(interval)"
   ]
  },
  {
   "cell_type": "markdown",
   "metadata": {},
   "source": [
    "<p style=\"font-size:125%; color:#119988; background-color:#EEE\">Задание 3.5</p>\n",
    "\n",
    "Разбейте значения столбца себестоимости (COGS) для Канады на шесть интервалов."
   ]
  },
  {
   "cell_type": "code",
   "execution_count": null,
   "metadata": {},
   "outputs": [],
   "source": [
    "# 3.5. Ваш код здесь\n",
    "\n"
   ]
  }
 ],
 "metadata": {
  "colab": {
   "collapsed_sections": [],
   "name": "Тема 8 ГК (запросы) Лекция",
   "provenance": []
  },
  "kernelspec": {
   "display_name": "Python 3 (ipykernel)",
   "language": "python",
   "name": "python3"
  },
  "language_info": {
   "codemirror_mode": {
    "name": "ipython",
    "version": 3
   },
   "file_extension": ".py",
   "mimetype": "text/x-python",
   "name": "python",
   "nbconvert_exporter": "python",
   "pygments_lexer": "ipython3",
   "version": "3.9.13"
  },
  "toc": {
   "base_numbering": 1,
   "nav_menu": {},
   "number_sections": true,
   "sideBar": true,
   "skip_h1_title": false,
   "title_cell": "Table of Contents",
   "title_sidebar": "Contents",
   "toc_cell": true,
   "toc_position": {},
   "toc_section_display": true,
   "toc_window_display": false
  },
  "varInspector": {
   "cols": {
    "lenName": 16,
    "lenType": 16,
    "lenVar": 40
   },
   "kernels_config": {
    "python": {
     "delete_cmd_postfix": "",
     "delete_cmd_prefix": "del ",
     "library": "var_list.py",
     "varRefreshCmd": "print(var_dic_list())"
    },
    "r": {
     "delete_cmd_postfix": ") ",
     "delete_cmd_prefix": "rm(",
     "library": "var_list.r",
     "varRefreshCmd": "cat(var_dic_list()) "
    }
   },
   "types_to_exclude": [
    "module",
    "function",
    "builtin_function_or_method",
    "instance",
    "_Feature"
   ],
   "window_display": false
  }
 },
 "nbformat": 4,
 "nbformat_minor": 4
}
